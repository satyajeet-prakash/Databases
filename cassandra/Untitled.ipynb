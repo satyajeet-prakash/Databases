{
 "cells": [
  {
   "cell_type": "code",
   "execution_count": 1,
   "metadata": {},
   "outputs": [
    {
     "name": "stdout",
     "output_type": "stream",
     "text": [
      "Collecting cassandra-driver\n",
      "  Downloading cassandra_driver-3.25.0-cp37-cp37m-manylinux1_x86_64.whl (3.8 MB)\n",
      "\u001b[K     |████████████████████████████████| 3.8 MB 403 kB/s eta 0:00:01     |█████████████████████▉          | 2.6 MB 1.7 MB/s eta 0:00:01\n",
      "\u001b[?25hCollecting geomet<0.3,>=0.1\n",
      "  Downloading geomet-0.2.1.post1-py3-none-any.whl (18 kB)\n",
      "Requirement already satisfied: six>=1.9 in /home/ubuntu/anaconda3/lib/python3.7/site-packages (from cassandra-driver) (1.14.0)\n",
      "Requirement already satisfied: click in /home/ubuntu/anaconda3/lib/python3.7/site-packages (from geomet<0.3,>=0.1->cassandra-driver) (7.0)\n",
      "Installing collected packages: geomet, cassandra-driver\n",
      "Successfully installed cassandra-driver-3.25.0 geomet-0.2.1.post1\n"
     ]
    }
   ],
   "source": [
    "!pip install cassandra-driver"
   ]
  },
  {
   "cell_type": "code",
   "execution_count": null,
   "metadata": {},
   "outputs": [],
   "source": []
  }
 ],
 "metadata": {
  "kernelspec": {
   "display_name": "Python 3",
   "language": "python",
   "name": "python3"
  },
  "language_info": {
   "codemirror_mode": {
    "name": "ipython",
    "version": 3
   },
   "file_extension": ".py",
   "mimetype": "text/x-python",
   "name": "python",
   "nbconvert_exporter": "python",
   "pygments_lexer": "ipython3",
   "version": "3.7.6"
  }
 },
 "nbformat": 4,
 "nbformat_minor": 4
}
